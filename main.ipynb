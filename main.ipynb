{
 "cells": [
  {
   "cell_type": "markdown",
   "metadata": {},
   "source": [
    "# Preparación del entorno (limpieza y preprocesamiento) y carga de datos\n",
    "\n",
    "Este código carga los datos, realiza algunas transformaciones básicas y prepara los conjuntos de entrenamiento y prueba."
   ]
  },
  {
   "cell_type": "code",
   "execution_count": null,
   "metadata": {},
   "outputs": [],
   "source": [
    "import pandas as pd\n",
    "import numpy as np\n",
    "from sklearn.model_selection import train_test_split\n",
    "from sklearn.preprocessing import StandardScaler\n",
    "from sklearn.ensemble import RandomForestClassifier\n",
    "from sklearn.metrics import confusion_matrix, classification_report, roc_auc_score\n",
    "import matplotlib.pyplot as plt\n",
    "import seaborn as sns\n",
    "\n",
    "# Cargar los datos\n",
    "# Asumimos que los datos están en un archivo CSV llamado 'airline_satisfaction.csv' en el directorio raíz\n",
    "df = pd.read_csv('airline_passenger_satisfaction.csv')\n",
    "\n",
    "# Visualizar las primeras filas y la información del DataFrame\n",
    "print(df.head())\n",
    "print(df.info())\n",
    "\n",
    "# Verificar valores nulos\n",
    "print(df.isnull().sum())\n",
    "\n",
    "# Estadísticas descriptivas\n",
    "print(df.describe())\n",
    "\n",
    "# Convertir variables categóricas a numéricas\n",
    "df = pd.get_dummies(df, columns=['Gender', 'Customer Type', 'Type of Travel', 'Class'], drop_first=True)\n",
    "\n",
    "# Separar características y variable objetivo\n",
    "X = df.drop('satisfaction', axis=1)\n",
    "y = df['satisfaction']\n",
    "\n",
    "# Dividir los datos en conjuntos de entrenamiento y prueba\n",
    "X_train, X_test, y_train, y_test = train_test_split(X, y, test_size=0.2, random_state=42)\n",
    "\n",
    "# Escalar las características\n",
    "scaler = StandardScaler()\n",
    "X_train_scaled = scaler.fit_transform(X_train)\n",
    "X_test_scaled = scaler.transform(X_test)"
   ]
  },
  {
   "cell_type": "code",
   "execution_count": null,
   "metadata": {},
   "outputs": [],
   "source": [
    "# Ejemplo para entender la importancia de random_state al hacer la división de los datos utilizando train_test_split (al decir test_size=0.2 estamos diciendo que el 20% de los datos se utilizarán para el conjunto de prueba y el 80% restante para el conjunto de entrenamiento)\n",
    "\n",
    "# Ejemplo simple de datos\n",
    "data = {'feature1': [1, 2, 3, 4, 5, 6, 7, 8, 9, 10],\n",
    "        'target': [0, 1, 0, 1, 0, 1, 0, 1, 0, 1]}\n",
    "\n",
    "df = pd.DataFrame(data)\n",
    "\n",
    "# División de datos sin random_state\n",
    "X_train1, X_test1, y_train1, y_test1 = train_test_split(df['feature1'], df['target'], test_size=0.2)\n",
    "\n",
    "# División de datos con random_state=42\n",
    "X_train2, X_test2, y_train2, y_test2 = train_test_split(df['feature1'], df['target'], test_size=0.2, random_state=42)\n",
    "\n",
    "print(\"Sin random_state:\")\n",
    "print(\"X_test1:\", X_test1)\n",
    "\n",
    "print(\"\\nCon random_state=42:\")\n",
    "print(\"X_test2:\", X_test2)"
   ]
  },
  {
   "cell_type": "markdown",
   "metadata": {},
   "source": [
    "Tratamiento de los valores perdidos: ¿eliminarlos o imputarlos? Ambas opciones son válidas. Sin embargo imputar los valores faltantes en la columna \"Arrival Delay in Minutes\" probablemente sea la mejor opción en este caso. Dado que solo el 0.3% de los datos está perdido, una imputación simple, como la media o mediana, podría ser suficiente y evitaría la pérdida de datos, manteniendo la integridad del dataset para el modelado de machine learning. Además, conservar todas las filas permite capturar toda la variabilidad potencial de los datos, lo que podría ser beneficioso para predecir el grado de satisfacción de los pasajeros. \n",
    "\n",
    "¿Media o mediana? Si no tenemos valores atípicos significativos y su distribución es simétrica nos decantaríamos por la media. La mediana podría ser una buena opción si los datos estuvieran sesgados, consiguiendo representar mejor el valor típico cuando los datos no son simétricos. "
   ]
  },
  {
   "cell_type": "code",
   "execution_count": null,
   "metadata": {},
   "outputs": [],
   "source": [
    "# # Imputamos los valores nulos con la media\n",
    "# df['Arrival Delay in Minutes'] = df['Arrival Delay in Minutes'].fillna(df['Arrival Delay in Minutes'].mean())\n",
    "\n",
    "# Imputamos los valores nulos con la mediana\n",
    "df['Arrival Delay in Minutes'] = df['Arrival Delay in Minutes'].fillna(df['Arrival Delay in Minutes'].median())"
   ]
  },
  {
   "cell_type": "markdown",
   "metadata": {},
   "source": [
    "### ¿Cómo decidir?\n",
    "Si observas que la distribución es simétrica, la media puede ser la mejor opción.\n",
    "Si la distribución está sesgada o tiene outliers, entonces la mediana sería más apropiada.\n",
    "En muchos casos reales de retrasos de vuelos, es común que la distribución esté sesgada hacia valores más bajos, pero con algunos vuelos con retrasos muy altos. Por lo tanto, la mediana suele ser preferida en esos contextos."
   ]
  },
  {
   "cell_type": "code",
   "execution_count": null,
   "metadata": {},
   "outputs": [],
   "source": [
    "# Histograma para visualizar la distribución\n",
    "sns.histplot(df['Arrival Delay in Minutes'].dropna(), bins=30)\n",
    "plt.title(\"Distribución de Arrival Delay in Minutes\")\n",
    "plt.show()\n",
    "\n",
    "# Estadísticas descriptivas\n",
    "print(df['Arrival Delay in Minutes'].describe())\n"
   ]
  },
  {
   "cell_type": "code",
   "execution_count": null,
   "metadata": {},
   "outputs": [],
   "source": [
    "# Pasamos la variable \"Arrival Delay in Minutes\" a int, ya que no tiene sentido que sea float\n",
    "# Para convertir una columna de tipo float a int \n",
    "df['Arrival Delay in Minutes'] = df['Arrival Delay in Minutes'].astype(int)"
   ]
  },
  {
   "cell_type": "code",
   "execution_count": null,
   "metadata": {},
   "outputs": [],
   "source": [
    "df['Arrival Delay in Minutes'].head()"
   ]
  },
  {
   "cell_type": "code",
   "execution_count": null,
   "metadata": {},
   "outputs": [],
   "source": [
    "# Borramos la primera columna que se crea al cargar el archivo CSV\n",
    "columnas_a_borrar = ['Unnamed: 0']\n",
    "df = df.drop(columnas_a_borrar, axis=1)"
   ]
  },
  {
   "cell_type": "code",
   "execution_count": null,
   "metadata": {},
   "outputs": [],
   "source": [
    "# comprobamos columnas imprimiéndolas\n",
    "print(df.columns)"
   ]
  },
  {
   "cell_type": "markdown",
   "metadata": {},
   "source": [
    "# EDA\n",
    "\n",
    "Este código genera visualizaciones para ayudarnos a entender la distribución de la satisfacción del cliente, las correlaciones entre variables, y cómo se relacionan las diferentes características con la satisfacción.\n",
    "\n",
    "1. Separar las variables numéricas y categóricas.\n",
    "2. Codificar la variable objetivo 'satisfaction'.\n",
    "3. Calcular la correlación solo para las variables numéricas.\n"
   ]
  },
  {
   "cell_type": "code",
   "execution_count": null,
   "metadata": {},
   "outputs": [],
   "source": [
    "from sklearn.preprocessing import LabelEncoder\n",
    "\n",
    "# Cargar los datos\n",
    "df = pd.read_csv('airline_passenger_satisfaction.csv')  # Asegúrate de poner la ruta correcta\n",
    "\n",
    "# Separar variables numéricas y categóricas\n",
    "numeric_columns = df.select_dtypes(include=['int64', 'float64']).columns\n",
    "categorical_columns = df.select_dtypes(include=['object']).columns\n",
    "\n",
    "# Codificar la variable objetivo\n",
    "le = LabelEncoder()\n",
    "df['satisfaction_encoded'] = le.fit_transform(df['satisfaction'])\n",
    "\n",
    "# Análisis de variables numéricas\n",
    "plt.figure(figsize=(20, 15))\n",
    "df.hist(bins=30, figsize=(20, 15))\n",
    "plt.tight_layout()\n",
    "plt.show()\n",
    "\n",
    "# Correlación entre variables numéricas\n",
    "correlation_matrix = df[numeric_columns].corr()\n",
    "plt.figure(figsize=(20, 16))\n",
    "sns.heatmap(correlation_matrix, annot=True, cmap='coolwarm', linewidths=0.5)\n",
    "plt.title('Correlation Heatmap of Numeric Variables')\n",
    "plt.show()\n",
    "\n",
    "# Análisis de variables categóricas\n",
    "for col in categorical_columns:\n",
    "    plt.figure(figsize=(10, 6))\n",
    "    df[col].value_counts().plot(kind='bar')\n",
    "    plt.title(f'Distribution of {col}')\n",
    "    plt.ylabel('Count')\n",
    "    plt.xticks(rotation=45)\n",
    "    plt.show()\n",
    "\n",
    "# Relación entre variables categóricas y la satisfacción\n",
    "for col in categorical_columns:\n",
    "    if col != 'satisfaction':\n",
    "        plt.figure(figsize=(12, 6))\n",
    "        sns.countplot(data=df, x=col, hue='satisfaction')\n",
    "        plt.title(f'Satisfaction by {col}')\n",
    "        plt.xticks(rotation=45)\n",
    "        plt.show()\n",
    "\n",
    "# Relación entre variables numéricas y la satisfacción\n",
    "for col in numeric_columns:\n",
    "    plt.figure(figsize=(10, 6))\n",
    "    sns.boxplot(data=df, x='satisfaction', y=col)\n",
    "    plt.title(f'{col} by Satisfaction')\n",
    "    plt.show()"
   ]
  },
  {
   "cell_type": "code",
   "execution_count": 147,
   "metadata": {},
   "outputs": [
    {
     "name": "stdout",
     "output_type": "stream",
     "text": [
      "Index(['id', 'Age', 'Flight Distance', 'Inflight wifi service',\n",
      "       'Departure/Arrival time convenient', 'Ease of Online booking',\n",
      "       'Gate location', 'Food and drink', 'Online boarding', 'Seat comfort',\n",
      "       'Inflight entertainment', 'On-board service', 'Leg room service',\n",
      "       'Baggage handling', 'Checkin service', 'Inflight service',\n",
      "       'Cleanliness', 'Departure Delay in Minutes', 'Arrival Delay in Minutes',\n",
      "       'satisfaction', 'Gender_Male', 'Customer Type_disloyal Customer',\n",
      "       'Type of Travel_Personal Travel', 'Class_Eco', 'Class_Eco Plus'],\n",
      "      dtype='object')\n"
     ]
    }
   ],
   "source": [
    "# Imprimir los nombres de las columnas del dataset\n",
    "print(df.columns)"
   ]
  },
  {
   "cell_type": "markdown",
   "metadata": {},
   "source": [
    "# Creación y entrenamiento del modelo"
   ]
  },
  {
   "cell_type": "markdown",
   "metadata": {},
   "source": [
    "Este código entrena el modelo, realiza predicciones, evalúa su rendimiento y visualiza la importancia de las características."
   ]
  },
  {
   "cell_type": "code",
   "execution_count": 153,
   "metadata": {},
   "outputs": [
    {
     "name": "stdout",
     "output_type": "stream",
     "text": [
      "Evaluación del modelo Random Forest:\n",
      "                         precision    recall  f1-score   support\n",
      "\n",
      "neutral or dissatisfied       0.96      0.98      0.97     11713\n",
      "              satisfied       0.97      0.94      0.96      9068\n",
      "\n",
      "               accuracy                           0.96     20781\n",
      "              macro avg       0.97      0.96      0.96     20781\n",
      "           weighted avg       0.96      0.96      0.96     20781\n",
      "\n",
      "Matriz de Confusión para Random Forest:\n",
      "[[11490   223]\n",
      " [  528  8540]]\n",
      "AUC-ROC para Random Forest:\n",
      "0.994216346391575\n",
      "\n",
      "Evaluación del modelo Logistic Regression:\n",
      "                         precision    recall  f1-score   support\n",
      "\n",
      "neutral or dissatisfied       0.88      0.91      0.89     11713\n",
      "              satisfied       0.88      0.84      0.86      9068\n",
      "\n",
      "               accuracy                           0.88     20781\n",
      "              macro avg       0.88      0.87      0.88     20781\n",
      "           weighted avg       0.88      0.88      0.88     20781\n",
      "\n",
      "Matriz de Confusión para Logistic Regression:\n",
      "[[10625  1088]\n",
      " [ 1432  7636]]\n",
      "AUC-ROC para Logistic Regression:\n",
      "0.9281474092310162\n",
      "\n",
      "Evaluación del modelo SVM:\n",
      "                         precision    recall  f1-score   support\n",
      "\n",
      "neutral or dissatisfied       0.95      0.97      0.96     11713\n",
      "              satisfied       0.96      0.93      0.95      9068\n",
      "\n",
      "               accuracy                           0.95     20781\n",
      "              macro avg       0.96      0.95      0.95     20781\n",
      "           weighted avg       0.95      0.95      0.95     20781\n",
      "\n",
      "Matriz de Confusión para SVM:\n",
      "[[11380   333]\n",
      " [  619  8449]]\n",
      "AUC-ROC para SVM:\n",
      "0.9889027931707804\n",
      "\n",
      "Overfitting Random Forest: 0.0361267502522693\n",
      "Overfitting Logistic Regression: -0.00340605205077682\n",
      "Overfitting SVM: 0.005184536036025866\n"
     ]
    },
    {
     "data": {
      "image/png": "[encoded data removed]",
      "text/plain": [
       "<Figure size 1200x800 with 1 Axes>"
      ]
     },
     "metadata": {},
     "output_type": "display_data"
    }
   ],
   "source": [
    "from sklearn.impute import SimpleImputer\n",
    "from sklearn.ensemble import RandomForestClassifier\n",
    "from sklearn.preprocessing import StandardScaler\n",
    "from sklearn.metrics import classification_report, confusion_matrix, roc_auc_score\n",
    "from sklearn.svm import SVC\n",
    "from sklearn.linear_model import LogisticRegression\n",
    "import seaborn as sns\n",
    "import matplotlib.pyplot as plt\n",
    "import pandas as pd\n",
    "\n",
    "# Borrado de las dos primeras columnas\n",
    "# columnas_a_borrar = ['Unnamed: 0', 'id']\n",
    "# df = df.drop(columnas_a_borrar, axis=1)\n",
    "\n",
    "# Imputar los valores nulos con la media\n",
    "imputer = SimpleImputer(strategy='median')\n",
    "X_train_imputed = imputer.fit_transform(X_train)\n",
    "X_test_imputed = imputer.transform(X_test)\n",
    "\n",
    "# Escalar las características imputadas\n",
    "scaler = StandardScaler()\n",
    "X_train_scaled = scaler.fit_transform(X_train_imputed)\n",
    "X_test_scaled = scaler.transform(X_test_imputed)\n",
    "\n",
    "# 1. Random Forest: Crear y entrenar el modelo\n",
    "rf_model = RandomForestClassifier(n_estimators=100, random_state=42)\n",
    "rf_model.fit(X_train_scaled, y_train)\n",
    "# Realizar predicciones\n",
    "y_pred_rf = rf_model.predict(X_test_scaled)\n",
    "y_pred_proba_rf = rf_model.predict_proba(X_test_scaled)[:, 1]\n",
    "\n",
    "# 2. Logistic Regression\n",
    "lr_model = LogisticRegression(random_state=42)\n",
    "lr_model.fit(X_train_scaled, y_train)\n",
    "y_pred_lr = lr_model.predict(X_test_scaled)\n",
    "y_pred_proba_lr = lr_model.predict_proba(X_test_scaled)[:, 1]\n",
    "\n",
    "# 3. Support Vector Machine (SVM)\n",
    "svm_model = SVC(probability=True, random_state=42)\n",
    "svm_model.fit(X_train_scaled, y_train)\n",
    "y_pred_svm = svm_model.predict(X_test_scaled)\n",
    "y_pred_proba_svm = svm_model.predict_proba(X_test_scaled)[:, 1]\n",
    "\n",
    "# Evaluar y comparar los modelos\n",
    "print(\"Evaluación del modelo Random Forest:\")\n",
    "print(classification_report(y_test, y_pred_rf))\n",
    "print(\"Matriz de Confusión para Random Forest:\")\n",
    "print(confusion_matrix(y_test, y_pred_rf))\n",
    "print(\"AUC-ROC para Random Forest:\")\n",
    "print(roc_auc_score(y_test, y_pred_proba_rf))\n",
    "\n",
    "print(\"\\nEvaluación del modelo Logistic Regression:\")\n",
    "print(classification_report(y_test, y_pred_lr))\n",
    "print(\"Matriz de Confusión para Logistic Regression:\")\n",
    "print(confusion_matrix(y_test, y_pred_lr))\n",
    "print(\"AUC-ROC para Logistic Regression:\")\n",
    "print(roc_auc_score(y_test, y_pred_proba_lr))\n",
    "\n",
    "print(\"\\nEvaluación del modelo SVM:\")\n",
    "print(classification_report(y_test, y_pred_svm))\n",
    "print(\"Matriz de Confusión para SVM:\")\n",
    "print(confusion_matrix(y_test, y_pred_svm))\n",
    "print(\"AUC-ROC para SVM:\")\n",
    "print(roc_auc_score(y_test, y_pred_proba_svm))\n",
    "\n",
    "# Comparación de Overfitting\n",
    "rf_train_score = rf_model.score(X_train_scaled, y_train)\n",
    "rf_test_score = rf_model.score(X_test_scaled, y_test)\n",
    "rf_overfitting = rf_train_score - rf_test_score\n",
    "\n",
    "lr_train_score = lr_model.score(X_train_scaled, y_train)\n",
    "lr_test_score = lr_model.score(X_test_scaled, y_test)\n",
    "lr_overfitting = lr_train_score - lr_test_score\n",
    "\n",
    "svm_train_score = svm_model.score(X_train_scaled, y_train)\n",
    "svm_test_score = svm_model.score(X_test_scaled, y_test)\n",
    "svm_overfitting = svm_train_score - svm_test_score\n",
    "\n",
    "print(\"\\nOverfitting Random Forest:\", rf_overfitting)\n",
    "print(\"Overfitting Logistic Regression:\", lr_overfitting)\n",
    "print(\"Overfitting SVM:\", svm_overfitting)\n",
    "\n",
    "# Calcular y visualizar la importancia de las características\n",
    "feature_importance = pd.DataFrame({\n",
    "    'feature': X.columns,\n",
    "    'importance': rf_model.feature_importances_\n",
    "}).sort_values('importance', ascending=False)\n",
    "\n",
    "plt.figure(figsize=(12, 8))\n",
    "sns.barplot(x='importance', y='feature', data=feature_importance.head(15))\n",
    "plt.title('Top 15 Características Más Importantes')\n",
    "plt.show()\n"
   ]
  },
  {
   "cell_type": "markdown",
   "metadata": {},
   "source": [
    "# Creación de una aplicación simple para productivizar el modelo"
   ]
  },
  {
   "cell_type": "code",
   "execution_count": null,
   "metadata": {},
   "outputs": [],
   "source": [
    "import streamlit as st\n",
    "import pandas as pd\n",
    "import joblib\n",
    "\n",
    "# Cargar el modelo entrenado y el scaler\n",
    "model = joblib.load('rf_model.joblib')\n",
    "scaler = joblib.load('scaler.joblib')\n",
    "\n",
    "st.title('Predictor de Satisfacción de Clientes de F5 Airlines')\n",
    "\n",
    "# Crear inputs para todas las características necesarias\n",
    "age = st.slider('Edad', 0, 100, 30)\n",
    "flight_distance = st.number_input('Distancia de vuelo', min_value=0)\n",
    "wifi_service = st.slider('Servicio de WiFi a bordo', 0, 5, 3)\n",
    "departure_arrival_time = st.slider('Conveniencia del horario de salida/llegada', 0, 5, 3)\n",
    "ease_of_booking = st.slider('Facilidad de reserva en línea', 0, 5, 3)\n",
    "# ... Añadir más inputs para todas las características necesarias ...\n",
    "\n",
    "# Crear un botón para realizar la predicción\n",
    "if st.button('Predecir Satisfacción'):\n",
    "    # Crear un DataFrame con los inputs del usuario\n",
    "    input_data = pd.DataFrame({\n",
    "        'Age': [age],\n",
    "        'Flight Distance': [flight_distance],\n",
    "        'Inflight wifi service': [wifi_service],\n",
    "        'Departure/Arrival time convenient': [departure_arrival_time],\n",
    "        'Ease of Online booking': [ease_of_booking],\n",
    "        # ... Añadir más características aquí ...\n",
    "    })\n",
    "    \n",
    "    # Escalar los datos de entrada\n",
    "    input_scaled = scaler.transform(input_data)\n",
    "    \n",
    "    # Realizar la predicción\n",
    "    prediction = model.predict(input_scaled)\n",
    "    probability = model.predict_proba(input_scaled)[0][1]\n",
    "    \n",
    "    # Mostrar el resultado\n",
    "    st.write(f\"Predicción: {'Satisfecho' if prediction[0] == 1 else 'Insatisfecho'}\")\n",
    "    st.write(f\"Probabilidad de satisfacción: {probability:.2f}\")"
   ]
  }
 ],
 "metadata": {
  "kernelspec": {
   "display_name": "base",
   "language": "python",
   "name": "python3"
  },
  "language_info": {
   "codemirror_mode": {
    "name": "ipython",
    "version": 3
   },
   "file_extension": ".py",
   "mimetype": "text/x-python",
   "name": "python",
   "nbconvert_exporter": "python",
   "pygments_lexer": "ipython3",
   "version": "3.11.7"
  }
 },
 "nbformat": 4,
 "nbformat_minor": 2
}
