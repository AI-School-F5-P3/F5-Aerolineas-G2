{
 "cells": [
  {
   "cell_type": "markdown",
   "metadata": {},
   "source": [
    "Obtención de los datos"
   ]
  },
  {
   "cell_type": "code",
   "execution_count": null,
   "metadata": {},
   "outputs": [],
   "source": [
    "import pandas as pd\n",
    "\n",
    "# Cargar datos\n",
    "path='C:/4_F5/011_proyecto_ml/'\n",
    "\n",
    "\n",
    "df = pd.read_csv(path + '/airline_passenger_satisfaction.csv')\n",
    "\n",
    "#Se elimina la primera columna que era el subíndice del csv\n",
    "df = df.iloc[:, 1:] \n",
    "df=df.drop(columns='id') #no sé si al final quito el id porque me estorba"
   ]
  },
  {
   "cell_type": "code",
   "execution_count": null,
   "metadata": {},
   "outputs": [],
   "source": [
    "#Hay que crear una parte que sea 'test'\n",
    "from sklearn.model_selection import train_test_split\n",
    "\n",
    "train, test = train_test_split(df, test_size=0.2, random_state=22 )\n",
    "\n",
    "# test_size=0.2, este parámetro indica que deseas que el 20% de los datos se utilicen como conjunto de prueba y el 80% como conjunto de entrenamiento. \n",
    "# random_state=22 Este parámetro establece una semilla para el generador de números aleatorios que se usa para realizar la división. Esto asegura que cada vez que ejecutes el código, obtendrás la misma división de los datos en conjuntos de entrenamiento y prueba. Usar un valor de random_state fijo es una buena práctica cuando quieres que tus resultados sean reproducibles.\n",
    "\n",
    "train.to_csv(path+'df_train.csv', index=False)\n",
    "test.to_csv(path+'df_test.csv', index=False)\n",
    "#Este test no lo tocamos hasta el final"
   ]
  },
  {
   "cell_type": "markdown",
   "metadata": {},
   "source": [
    "3. Exploración y visualización de Datos"
   ]
  },
  {
   "cell_type": "code",
   "execution_count": null,
   "metadata": {},
   "outputs": [],
   "source": [
    "print(df.info())"
   ]
  },
  {
   "cell_type": "code",
   "execution_count": null,
   "metadata": {},
   "outputs": [],
   "source": [
    "print(f'\\n\\nEl DF tiene {df.shape[0]:,} filas')\n",
    "print(f'El DF tiene {df.shape[1]} columnas')"
   ]
  },
  {
   "cell_type": "markdown",
   "metadata": {},
   "source": [
    "Voy a tratar los missings"
   ]
  },
  {
   "cell_type": "code",
   "execution_count": null,
   "metadata": {},
   "outputs": [],
   "source": [
    "# Comprobar cuántos valores missing existen en el DataFrame por variable\n",
    "\n",
    "nulos={'conteo_nulos':df.isnull().sum(),'proporcion%':round(df.isnull().sum()/df.shape[0]*100, 3)}\n",
    "\n",
    "df_nulos=pd.DataFrame(data=nulos)\n",
    "print(df_nulos)"
   ]
  },
  {
   "cell_type": "markdown",
   "metadata": {},
   "source": [
    "Antes de convertir las variables hay que tratar los 'missings'.\n",
    "\n",
    "Que según hemos concluido, tantos los valores '0' como los 'espacios en blanco' son 'missing' y los vamos a eliminar. ---->Al final hemos decidido que los '0' sí se van a tener en cuenta."
   ]
  },
  {
   "cell_type": "code",
   "execution_count": null,
   "metadata": {},
   "outputs": [],
   "source": [
    "# Primero elimino los 'missings'\n",
    "df = df.dropna(how='any')\n",
    "\n",
    "print(f'\\n\\nEl DF tiene {df.shape[0]:,} filas')\n",
    "\n",
    "\n",
    "# Compruebo que se ha eliminado\n",
    "missing={'conteo_nulos':df.isnull().sum(),'proporcion%':round(df.isnull().sum()/df.shape[0]*100, 3)}\n",
    "df_coun_missing=pd.DataFrame(data=nulos)\n",
    "print(df_coun_missing)"
   ]
  },
  {
   "cell_type": "markdown",
   "metadata": {},
   "source": [
    "Separo la Variable Objetivo, 'Y', de las Variables predictoras 'X'"
   ]
  },
  {
   "cell_type": "code",
   "execution_count": null,
   "metadata": {},
   "outputs": [],
   "source": [
    "#En este dataframe guarda la variable Objetivo, 'Y'\n",
    "y = df['satisfaction']"
   ]
  },
  {
   "cell_type": "code",
   "execution_count": null,
   "metadata": {},
   "outputs": [],
   "source": [
    "#En esta dataframe 'x' se guardan las variables predictoras\n",
    "x=df.drop(columns=['satisfaction'])\n",
    "\n",
    "print(f'Las variables son {len(x.columns)}:\\n\\n' + '\\n'.join(x.columns) + '\\n')\n"
   ]
  },
  {
   "cell_type": "markdown",
   "metadata": {},
   "source": [
    "Codifico 'Y' en binario, aunque a veces hay modelos que trabajan igualmente bien sin codificar."
   ]
  },
  {
   "cell_type": "code",
   "execution_count": null,
   "metadata": {},
   "outputs": [],
   "source": [
    "# Codificación de la variable objetivo\n",
    "\n",
    "from sklearn.preprocessing import LabelEncoder\n",
    "le = LabelEncoder()\n",
    "y_le = le.fit_transform(y)\n"
   ]
  },
  {
   "cell_type": "code",
   "execution_count": null,
   "metadata": {},
   "outputs": [],
   "source": [
    "# Conteo de los valores por cada columna ----> Hacer bucle para ver si hay columnas que estén desbalanceadas.\n",
    "# Para ver qué variables hay que escalar\n",
    "\n",
    "df['Customer Type'].value_counts()"
   ]
  },
  {
   "cell_type": "code",
   "execution_count": null,
   "metadata": {},
   "outputs": [],
   "source": [
    "#Ahora elimino los '0' pero de las columnas categóricas ordinales\n",
    "# -->Ya no, hemos decidido dejarlos !!!!!!\n",
    "\n"
   ]
  },
  {
   "cell_type": "markdown",
   "metadata": {},
   "source": [
    "Voy a separar las variables, por un lado según sean categóricas(binarias, ordinales..) y por otro las numéricas\n",
    "\n",
    "· Categóricas\n",
    "\n",
    "· Numéricas\n",
    "\n",
    "Porque a veces un modelo va a trabajar mejor sólo con las categóricas o sólo con las numéricas.\n",
    "Además, es conveniente escalar las variables munéricas (ya sean por cambios de escala o por magnitud, o incluso 'normalizarlas')"
   ]
  },
  {
   "cell_type": "markdown",
   "metadata": {},
   "source": [
    "Detecto las variables categóricas para separarlas de las numéricas, porque es conveniente para codificar tanto las categóricas ordinales(que en este caso no es necesario porque ya están del 0 al 5) y las categóricas binarias, por un lado, y escalar las numéricas.\n",
    "\n",
    "Filtro en el dataframe 'X' las variables categóricas y las variables numéricas."
   ]
  },
  {
   "cell_type": "code",
   "execution_count": null,
   "metadata": {},
   "outputs": [],
   "source": [
    "import pandas as pd\n",
    "from pandas.api.types import is_categorical_dtype\n",
    "\n",
    "# Para detectar me da igual usar 'X' o usar 'X_TRAIN' porque sólo quiero el nombre de las columans\n",
    "# Función para detectar variables categóricas ordinales\n",
    "def detectar_variables_ordinales(x):\n",
    "    ordinal_columns = []\n",
    "\n",
    "    for column in x.columns:\n",
    "        # verificar si la columna es numérica\n",
    "        if pd.api.types.is_numeric_dtype(x[column]):\n",
    "            # obtener valores únicos\n",
    "            unique_values = x[column].unique()\n",
    "            # verificar si todos los valores están en el rango [1,5]\n",
    "            if set(unique_values).issubset({0, 1, 2, 3, 4, 5}):\n",
    "                ordinal_columns.append(column)\n",
    "\n",
    "    \n",
    "    return ordinal_columns\n",
    "\n",
    "\n",
    "\n",
    "\n",
    "variables_ordinales = detectar_variables_ordinales(x)\n",
    "\n",
    "print(f'Variables categóricas ordinales: {len(variables_ordinales)}\\n\\n' + '\\n'.join(variables_ordinales) + '\\n')\n",
    "\n",
    "\n",
    "# Resultado:\n",
    "# Variables categóricas ordinales: ['Inflight wifi service', 'Departure/Arrival time convenient', 'Ease of Online booking', 'Gate location', 'Food and drink', 'Online boarding', 'Seat comfort', 'Inflight entertainment', 'On-board service', 'Leg room service', 'Baggage handling', 'Checkin service', 'Inflight service', 'Cleanliness']\n",
    "# Ya no !!!!!  ----> De esas variables hay que quitar los '0' porque hemos decidido que son missing. Antes de hacer el one-hot-encoding\n"
   ]
  },
  {
   "cell_type": "code",
   "execution_count": null,
   "metadata": {},
   "outputs": [],
   "source": [
    "# Variables que son categóricas binarias y categóricas no ordinales\n",
    "import pandas as pd\n",
    "\n",
    "def detectar_variables_categoricas(x):\n",
    "    categorias_columns = []\n",
    "\n",
    "    for column in x.columns:\n",
    "        # Verificar si la columna no es numérica\n",
    "        if not pd.api.types.is_numeric_dtype(x[column]):\n",
    "            # Obtener el número de categorías únicas\n",
    "            unique_values = x[column].nunique()\n",
    "            # Se puede agregar un límite arbitrario si se desea,\n",
    "            # por ejemplo, menos de 10 categorías únicas\n",
    "            if unique_values < 10:\n",
    "                categorias_columns.append(column)\n",
    "\n",
    "    return categorias_columns\n",
    "\n",
    "# Supongamos que tienes un DataFrame df\n",
    "variables_categoricas = detectar_variables_categoricas(x)\n",
    "\n",
    "print(f'Variables categóricas binarias y categóricas no ordinales: {len(variables_categoricas)}\\n\\n' + '\\n'.join(variables_categoricas) + '\\n')\n"
   ]
  },
  {
   "cell_type": "markdown",
   "metadata": {},
   "source": [
    "Junto el nombre de las variables categóricas (ya sean binarias, no ordinales y ordinales)"
   ]
  },
  {
   "cell_type": "code",
   "execution_count": null,
   "metadata": {},
   "outputs": [],
   "source": [
    "#Filtro para quedarme con las numéricas, las que voy a escalar\n",
    "\n",
    "# Primero detecto las columnas que tienen solo valores de 0 y 1\n",
    "\"\"\" binary_cols = x_encoded.columns[x_encoded.nunique() == 2]\n",
    "\n",
    "# Luego detecto las columnas ordinales (2 a 5)\n",
    "ordinal_cols = x_encoded.columns[(x_encoded.nunique() > 1) & (x_encoded.nunique() <= 5)] \"\"\"\n",
    "\n",
    "# Ambas categóricas las junto \n",
    "categorical_cols = list(variables_categoricas) + list(variables_ordinales)\n",
    "\n",
    "\n",
    "\n",
    "print(f'Variables categóricas en total: {len(categorical_cols)}\\n\\n' + '\\n'.join(categorical_cols) + '\\n')\n"
   ]
  },
  {
   "cell_type": "markdown",
   "metadata": {},
   "source": [
    "Ahora encuentro las variables numéricas y las filtro"
   ]
  },
  {
   "cell_type": "code",
   "execution_count": null,
   "metadata": {},
   "outputs": [],
   "source": [
    "data_cat=x[categorical_cols]\n",
    "data_num=x.drop(columns=categorical_cols)\n",
    "\n",
    "print(f'Variables numéricas: {len(data_num.columns)}\\n\\n' + '\\n'.join(data_num.columns) + '\\n')\n"
   ]
  },
  {
   "cell_type": "markdown",
   "metadata": {},
   "source": [
    "Ahora hay que sacar el 'train' y 'test' tanto de 'Y' como de 'X'"
   ]
  },
  {
   "cell_type": "code",
   "execution_count": null,
   "metadata": {},
   "outputs": [],
   "source": [
    "# Separa el dataframe en partes de entrenamiento y prueba, tanto en 'X' como en 'Y'\n",
    "x_train, x_test, y_train, y_test = train_test_split(x, y_le, test_size=0.3, random_state=42)"
   ]
  },
  {
   "cell_type": "markdown",
   "metadata": {},
   "source": [
    "\n",
    "**One-Hot Encoding es generalmente preferido cuando no hay un orden inherente en las categorías. De esta manera, me aseguro de que el modelo no asuma relaciones incorrectas entre las categorías.\n",
    "\n",
    "**Label Encoding podría usarse si hay un orden claro entre las categorías.\n",
    "Cuando tienes un DataFrame con columnas categóricas y categóricas ordinales, es importante elegir el método de codificación adecuado que preserve la naturaleza ordinal de la columna.\n",
    "\n",
    "Primero se debe usar OrdinalEncoder a las variables originales y luego OneHotENcoder (en nuestro caso por cómo está codificado las variable ordinales no hace falta) "
   ]
  },
  {
   "cell_type": "code",
   "execution_count": 72,
   "metadata": {},
   "outputs": [],
   "source": [
    "import pandas as pd\n",
    "import numpy as np\n",
    "from sklearn.preprocessing import StandardScaler\n",
    "from sklearn.compose import ColumnTransformer\n",
    "from sklearn.preprocessing import OneHotEncoder\n",
    "\n",
    "# 2. Crear el preprocesador\n",
    "preprocessor = ColumnTransformer(\n",
    "    transformers=[\n",
    "        ('num', StandardScaler(), data_num.columns),\n",
    "        ('cat', OneHotEncoder(), variables_categoricas) #Usamos drop='first' en OneHotEncoder para evitar la trampa de las variables dummy.\n",
    "    ],\n",
    "    remainder='passthrough')\n"
   ]
  },
  {
   "cell_type": "code",
   "execution_count": 73,
   "metadata": {},
   "outputs": [
    {
     "name": "stdout",
     "output_type": "stream",
     "text": [
      "['Gender_Female' 'Gender_Male' 'Customer Type_Loyal Customer'\n",
      " 'Customer Type_disloyal Customer' 'Type of Travel_Business travel'\n",
      " 'Type of Travel_Personal Travel' 'Class_Business' 'Class_Eco'\n",
      " 'Class_Eco Plus']\n",
      "9\n",
      "['Age', 'Flight Distance', 'Departure Delay in Minutes', 'Arrival Delay in Minutes', 'Gender_Female', 'Gender_Male', 'Customer Type_Loyal Customer', 'Customer Type_disloyal Customer', 'Type of Travel_Business travel', 'Type of Travel_Personal Travel', 'Class_Business', 'Class_Eco', 'Class_Eco Plus', 'Inflight wifi service', 'Departure/Arrival time convenient', 'Ease of Online booking', 'Gate location', 'Food and drink', 'Online boarding', 'Seat comfort', 'Inflight entertainment', 'On-board service', 'Leg room service', 'Baggage handling', 'Checkin service', 'Inflight service', 'Cleanliness']\n",
      "27\n"
     ]
    }
   ],
   "source": [
    "# 3. Ajustar y transformar los datos de entrenamiento\n",
    "x_train_processed = preprocessor.fit_transform(x_train)\n",
    "\n",
    "# 4. Transformar los datos de prueba\n",
    "x_test_processed = preprocessor.transform(x_test)\n",
    "\n",
    "# 5. Convertir a DataFrames de pandas\n",
    "# Obtenemos los nombres de las columnas después del preprocesamiento\n",
    "onehot_encoder = preprocessor.named_transformers_['cat']\n",
    "cat_feature_names = onehot_encoder.get_feature_names_out(variables_categoricas) #Este método ahora genera nombres de características de salida después de aplicar el One-Hot Encoding. Asegúrate de que categorical_cols contenga las columnas que se codificarán.\n",
    "feature_names = list(data_num.columns) + list(cat_feature_names)+list(variables_ordinales)\n",
    "#print(feature_names)\n",
    "\n",
    "print(cat_feature_names)\n",
    "print(len(cat_feature_names))\n",
    "\n",
    "\n",
    "print(feature_names)\n",
    "print(len(feature_names))"
   ]
  },
  {
   "cell_type": "code",
   "execution_count": 74,
   "metadata": {},
   "outputs": [
    {
     "data": {
      "text/html": [
       "<div>\n",
       "<style scoped>\n",
       "    .dataframe tbody tr th:only-of-type {\n",
       "        vertical-align: middle;\n",
       "    }\n",
       "\n",
       "    .dataframe tbody tr th {\n",
       "        vertical-align: top;\n",
       "    }\n",
       "\n",
       "    .dataframe thead th {\n",
       "        text-align: right;\n",
       "    }\n",
       "</style>\n",
       "<table border=\"1\" class=\"dataframe\">\n",
       "  <thead>\n",
       "    <tr style=\"text-align: right;\">\n",
       "      <th></th>\n",
       "      <th>Age</th>\n",
       "      <th>Flight Distance</th>\n",
       "      <th>Departure Delay in Minutes</th>\n",
       "      <th>Arrival Delay in Minutes</th>\n",
       "      <th>Gender_Female</th>\n",
       "      <th>Gender_Male</th>\n",
       "      <th>Customer Type_Loyal Customer</th>\n",
       "      <th>Customer Type_disloyal Customer</th>\n",
       "      <th>Type of Travel_Business travel</th>\n",
       "      <th>Type of Travel_Personal Travel</th>\n",
       "      <th>...</th>\n",
       "      <th>Food and drink</th>\n",
       "      <th>Online boarding</th>\n",
       "      <th>Seat comfort</th>\n",
       "      <th>Inflight entertainment</th>\n",
       "      <th>On-board service</th>\n",
       "      <th>Leg room service</th>\n",
       "      <th>Baggage handling</th>\n",
       "      <th>Checkin service</th>\n",
       "      <th>Inflight service</th>\n",
       "      <th>Cleanliness</th>\n",
       "    </tr>\n",
       "  </thead>\n",
       "  <tbody>\n",
       "    <tr>\n",
       "      <th>18595</th>\n",
       "      <td>1.761639</td>\n",
       "      <td>-0.865809</td>\n",
       "      <td>-0.387271</td>\n",
       "      <td>-0.392586</td>\n",
       "      <td>1.0</td>\n",
       "      <td>0.0</td>\n",
       "      <td>1.0</td>\n",
       "      <td>0.0</td>\n",
       "      <td>1.0</td>\n",
       "      <td>0.0</td>\n",
       "      <td>...</td>\n",
       "      <td>2.0</td>\n",
       "      <td>4.0</td>\n",
       "      <td>1.0</td>\n",
       "      <td>5.0</td>\n",
       "      <td>5.0</td>\n",
       "      <td>5.0</td>\n",
       "      <td>5.0</td>\n",
       "      <td>2.0</td>\n",
       "      <td>5.0</td>\n",
       "      <td>3.0</td>\n",
       "    </tr>\n",
       "    <tr>\n",
       "      <th>19336</th>\n",
       "      <td>-1.083807</td>\n",
       "      <td>-0.047478</td>\n",
       "      <td>-0.387271</td>\n",
       "      <td>-0.392586</td>\n",
       "      <td>1.0</td>\n",
       "      <td>0.0</td>\n",
       "      <td>1.0</td>\n",
       "      <td>0.0</td>\n",
       "      <td>0.0</td>\n",
       "      <td>1.0</td>\n",
       "      <td>...</td>\n",
       "      <td>1.0</td>\n",
       "      <td>2.0</td>\n",
       "      <td>1.0</td>\n",
       "      <td>1.0</td>\n",
       "      <td>4.0</td>\n",
       "      <td>3.0</td>\n",
       "      <td>4.0</td>\n",
       "      <td>4.0</td>\n",
       "      <td>5.0</td>\n",
       "      <td>1.0</td>\n",
       "    </tr>\n",
       "    <tr>\n",
       "      <th>72501</th>\n",
       "      <td>-0.554422</td>\n",
       "      <td>-0.882858</td>\n",
       "      <td>-0.387271</td>\n",
       "      <td>-0.392586</td>\n",
       "      <td>1.0</td>\n",
       "      <td>0.0</td>\n",
       "      <td>1.0</td>\n",
       "      <td>0.0</td>\n",
       "      <td>0.0</td>\n",
       "      <td>1.0</td>\n",
       "      <td>...</td>\n",
       "      <td>5.0</td>\n",
       "      <td>1.0</td>\n",
       "      <td>5.0</td>\n",
       "      <td>5.0</td>\n",
       "      <td>4.0</td>\n",
       "      <td>3.0</td>\n",
       "      <td>5.0</td>\n",
       "      <td>5.0</td>\n",
       "      <td>4.0</td>\n",
       "      <td>5.0</td>\n",
       "    </tr>\n",
       "    <tr>\n",
       "      <th>85210</th>\n",
       "      <td>0.702868</td>\n",
       "      <td>-0.396472</td>\n",
       "      <td>2.104466</td>\n",
       "      <td>1.663422</td>\n",
       "      <td>1.0</td>\n",
       "      <td>0.0</td>\n",
       "      <td>1.0</td>\n",
       "      <td>0.0</td>\n",
       "      <td>1.0</td>\n",
       "      <td>0.0</td>\n",
       "      <td>...</td>\n",
       "      <td>4.0</td>\n",
       "      <td>3.0</td>\n",
       "      <td>3.0</td>\n",
       "      <td>3.0</td>\n",
       "      <td>3.0</td>\n",
       "      <td>3.0</td>\n",
       "      <td>3.0</td>\n",
       "      <td>2.0</td>\n",
       "      <td>3.0</td>\n",
       "      <td>2.0</td>\n",
       "    </tr>\n",
       "    <tr>\n",
       "      <th>87824</th>\n",
       "      <td>-0.355902</td>\n",
       "      <td>-1.049332</td>\n",
       "      <td>-0.387271</td>\n",
       "      <td>-0.392586</td>\n",
       "      <td>0.0</td>\n",
       "      <td>1.0</td>\n",
       "      <td>1.0</td>\n",
       "      <td>0.0</td>\n",
       "      <td>1.0</td>\n",
       "      <td>0.0</td>\n",
       "      <td>...</td>\n",
       "      <td>4.0</td>\n",
       "      <td>4.0</td>\n",
       "      <td>4.0</td>\n",
       "      <td>4.0</td>\n",
       "      <td>3.0</td>\n",
       "      <td>2.0</td>\n",
       "      <td>4.0</td>\n",
       "      <td>2.0</td>\n",
       "      <td>4.0</td>\n",
       "      <td>4.0</td>\n",
       "    </tr>\n",
       "    <tr>\n",
       "      <th>...</th>\n",
       "      <td>...</td>\n",
       "      <td>...</td>\n",
       "      <td>...</td>\n",
       "      <td>...</td>\n",
       "      <td>...</td>\n",
       "      <td>...</td>\n",
       "      <td>...</td>\n",
       "      <td>...</td>\n",
       "      <td>...</td>\n",
       "      <td>...</td>\n",
       "      <td>...</td>\n",
       "      <td>...</td>\n",
       "      <td>...</td>\n",
       "      <td>...</td>\n",
       "      <td>...</td>\n",
       "      <td>...</td>\n",
       "      <td>...</td>\n",
       "      <td>...</td>\n",
       "      <td>...</td>\n",
       "      <td>...</td>\n",
       "      <td>...</td>\n",
       "    </tr>\n",
       "    <tr>\n",
       "      <th>73004</th>\n",
       "      <td>-1.414673</td>\n",
       "      <td>1.289330</td>\n",
       "      <td>-0.387271</td>\n",
       "      <td>-0.392586</td>\n",
       "      <td>0.0</td>\n",
       "      <td>1.0</td>\n",
       "      <td>1.0</td>\n",
       "      <td>0.0</td>\n",
       "      <td>0.0</td>\n",
       "      <td>1.0</td>\n",
       "      <td>...</td>\n",
       "      <td>2.0</td>\n",
       "      <td>1.0</td>\n",
       "      <td>1.0</td>\n",
       "      <td>5.0</td>\n",
       "      <td>2.0</td>\n",
       "      <td>5.0</td>\n",
       "      <td>5.0</td>\n",
       "      <td>1.0</td>\n",
       "      <td>4.0</td>\n",
       "      <td>1.0</td>\n",
       "    </tr>\n",
       "    <tr>\n",
       "      <th>17946</th>\n",
       "      <td>0.636695</td>\n",
       "      <td>1.381593</td>\n",
       "      <td>0.805582</td>\n",
       "      <td>0.648431</td>\n",
       "      <td>1.0</td>\n",
       "      <td>0.0</td>\n",
       "      <td>1.0</td>\n",
       "      <td>0.0</td>\n",
       "      <td>1.0</td>\n",
       "      <td>0.0</td>\n",
       "      <td>...</td>\n",
       "      <td>1.0</td>\n",
       "      <td>2.0</td>\n",
       "      <td>3.0</td>\n",
       "      <td>2.0</td>\n",
       "      <td>2.0</td>\n",
       "      <td>2.0</td>\n",
       "      <td>2.0</td>\n",
       "      <td>3.0</td>\n",
       "      <td>2.0</td>\n",
       "      <td>1.0</td>\n",
       "    </tr>\n",
       "    <tr>\n",
       "      <th>100824</th>\n",
       "      <td>-1.745539</td>\n",
       "      <td>-0.103638</td>\n",
       "      <td>-0.387271</td>\n",
       "      <td>-0.340535</td>\n",
       "      <td>1.0</td>\n",
       "      <td>0.0</td>\n",
       "      <td>0.0</td>\n",
       "      <td>1.0</td>\n",
       "      <td>1.0</td>\n",
       "      <td>0.0</td>\n",
       "      <td>...</td>\n",
       "      <td>3.0</td>\n",
       "      <td>2.0</td>\n",
       "      <td>3.0</td>\n",
       "      <td>3.0</td>\n",
       "      <td>1.0</td>\n",
       "      <td>1.0</td>\n",
       "      <td>5.0</td>\n",
       "      <td>2.0</td>\n",
       "      <td>3.0</td>\n",
       "      <td>3.0</td>\n",
       "    </tr>\n",
       "    <tr>\n",
       "      <th>52391</th>\n",
       "      <td>1.298427</td>\n",
       "      <td>1.370561</td>\n",
       "      <td>-0.387271</td>\n",
       "      <td>-0.392586</td>\n",
       "      <td>1.0</td>\n",
       "      <td>0.0</td>\n",
       "      <td>1.0</td>\n",
       "      <td>0.0</td>\n",
       "      <td>1.0</td>\n",
       "      <td>0.0</td>\n",
       "      <td>...</td>\n",
       "      <td>3.0</td>\n",
       "      <td>3.0</td>\n",
       "      <td>5.0</td>\n",
       "      <td>5.0</td>\n",
       "      <td>5.0</td>\n",
       "      <td>5.0</td>\n",
       "      <td>5.0</td>\n",
       "      <td>5.0</td>\n",
       "      <td>5.0</td>\n",
       "      <td>4.0</td>\n",
       "    </tr>\n",
       "    <tr>\n",
       "      <th>50820</th>\n",
       "      <td>0.570522</td>\n",
       "      <td>1.319416</td>\n",
       "      <td>-0.387271</td>\n",
       "      <td>-0.392586</td>\n",
       "      <td>1.0</td>\n",
       "      <td>0.0</td>\n",
       "      <td>1.0</td>\n",
       "      <td>0.0</td>\n",
       "      <td>1.0</td>\n",
       "      <td>0.0</td>\n",
       "      <td>...</td>\n",
       "      <td>5.0</td>\n",
       "      <td>4.0</td>\n",
       "      <td>4.0</td>\n",
       "      <td>3.0</td>\n",
       "      <td>3.0</td>\n",
       "      <td>3.0</td>\n",
       "      <td>3.0</td>\n",
       "      <td>3.0</td>\n",
       "      <td>3.0</td>\n",
       "      <td>1.0</td>\n",
       "    </tr>\n",
       "  </tbody>\n",
       "</table>\n",
       "<p>31079 rows × 27 columns</p>\n",
       "</div>"
      ],
      "text/plain": [
       "             Age  Flight Distance  Departure Delay in Minutes  \\\n",
       "18595   1.761639        -0.865809                   -0.387271   \n",
       "19336  -1.083807        -0.047478                   -0.387271   \n",
       "72501  -0.554422        -0.882858                   -0.387271   \n",
       "85210   0.702868        -0.396472                    2.104466   \n",
       "87824  -0.355902        -1.049332                   -0.387271   \n",
       "...          ...              ...                         ...   \n",
       "73004  -1.414673         1.289330                   -0.387271   \n",
       "17946   0.636695         1.381593                    0.805582   \n",
       "100824 -1.745539        -0.103638                   -0.387271   \n",
       "52391   1.298427         1.370561                   -0.387271   \n",
       "50820   0.570522         1.319416                   -0.387271   \n",
       "\n",
       "        Arrival Delay in Minutes  Gender_Female  Gender_Male  \\\n",
       "18595                  -0.392586            1.0          0.0   \n",
       "19336                  -0.392586            1.0          0.0   \n",
       "72501                  -0.392586            1.0          0.0   \n",
       "85210                   1.663422            1.0          0.0   \n",
       "87824                  -0.392586            0.0          1.0   \n",
       "...                          ...            ...          ...   \n",
       "73004                  -0.392586            0.0          1.0   \n",
       "17946                   0.648431            1.0          0.0   \n",
       "100824                 -0.340535            1.0          0.0   \n",
       "52391                  -0.392586            1.0          0.0   \n",
       "50820                  -0.392586            1.0          0.0   \n",
       "\n",
       "        Customer Type_Loyal Customer  Customer Type_disloyal Customer  \\\n",
       "18595                            1.0                              0.0   \n",
       "19336                            1.0                              0.0   \n",
       "72501                            1.0                              0.0   \n",
       "85210                            1.0                              0.0   \n",
       "87824                            1.0                              0.0   \n",
       "...                              ...                              ...   \n",
       "73004                            1.0                              0.0   \n",
       "17946                            1.0                              0.0   \n",
       "100824                           0.0                              1.0   \n",
       "52391                            1.0                              0.0   \n",
       "50820                            1.0                              0.0   \n",
       "\n",
       "        Type of Travel_Business travel  Type of Travel_Personal Travel  ...  \\\n",
       "18595                              1.0                             0.0  ...   \n",
       "19336                              0.0                             1.0  ...   \n",
       "72501                              0.0                             1.0  ...   \n",
       "85210                              1.0                             0.0  ...   \n",
       "87824                              1.0                             0.0  ...   \n",
       "...                                ...                             ...  ...   \n",
       "73004                              0.0                             1.0  ...   \n",
       "17946                              1.0                             0.0  ...   \n",
       "100824                             1.0                             0.0  ...   \n",
       "52391                              1.0                             0.0  ...   \n",
       "50820                              1.0                             0.0  ...   \n",
       "\n",
       "        Food and drink  Online boarding  Seat comfort  Inflight entertainment  \\\n",
       "18595              2.0              4.0           1.0                     5.0   \n",
       "19336              1.0              2.0           1.0                     1.0   \n",
       "72501              5.0              1.0           5.0                     5.0   \n",
       "85210              4.0              3.0           3.0                     3.0   \n",
       "87824              4.0              4.0           4.0                     4.0   \n",
       "...                ...              ...           ...                     ...   \n",
       "73004              2.0              1.0           1.0                     5.0   \n",
       "17946              1.0              2.0           3.0                     2.0   \n",
       "100824             3.0              2.0           3.0                     3.0   \n",
       "52391              3.0              3.0           5.0                     5.0   \n",
       "50820              5.0              4.0           4.0                     3.0   \n",
       "\n",
       "        On-board service  Leg room service  Baggage handling  Checkin service  \\\n",
       "18595                5.0               5.0               5.0              2.0   \n",
       "19336                4.0               3.0               4.0              4.0   \n",
       "72501                4.0               3.0               5.0              5.0   \n",
       "85210                3.0               3.0               3.0              2.0   \n",
       "87824                3.0               2.0               4.0              2.0   \n",
       "...                  ...               ...               ...              ...   \n",
       "73004                2.0               5.0               5.0              1.0   \n",
       "17946                2.0               2.0               2.0              3.0   \n",
       "100824               1.0               1.0               5.0              2.0   \n",
       "52391                5.0               5.0               5.0              5.0   \n",
       "50820                3.0               3.0               3.0              3.0   \n",
       "\n",
       "        Inflight service  Cleanliness  \n",
       "18595                5.0          3.0  \n",
       "19336                5.0          1.0  \n",
       "72501                4.0          5.0  \n",
       "85210                3.0          2.0  \n",
       "87824                4.0          4.0  \n",
       "...                  ...          ...  \n",
       "73004                4.0          1.0  \n",
       "17946                2.0          1.0  \n",
       "100824               3.0          3.0  \n",
       "52391                5.0          4.0  \n",
       "50820                3.0          1.0  \n",
       "\n",
       "[31079 rows x 27 columns]"
      ]
     },
     "execution_count": 74,
     "metadata": {},
     "output_type": "execute_result"
    }
   ],
   "source": [
    "x_train_processed_df = pd.DataFrame(x_train_processed, columns=feature_names,index=x_train.index)\n",
    "x_test_processed_df = pd.DataFrame(x_test_processed, columns=feature_names, index=x_test.index)\n",
    "\n",
    "x_test_processed_df"
   ]
  },
  {
   "cell_type": "code",
   "execution_count": null,
   "metadata": {},
   "outputs": [],
   "source": [
    "\n",
    "\"\"\" \n",
    "# Variables categóricas ordinales -----> no haría falta\n",
    "# Crear OrdinalEncoder\n",
    "encoder_ord = OrdinalEncoder()\n",
    "# Aplicar OrdinalEncoder a múltiples variables categóricas ordinales.\n",
    "# Machaco la variable x_train_cat que la recojo de la codificación anterior.\n",
    "x_train_ord_encod= pd.DataFrame(encoder_ord.fit_transform(x_train_cat_encod), columns=x_train_cat_encod.columns)\n",
    "\n",
    "#Hay que aplicar la transformación a la parte 'test'\n",
    "x_test_ord_encod=pd.DataFrame(encoder_ord.transform(x_test_cat_encod), columns=x_test_cat_encod.columns)\n",
    "\n",
    "# Concatenar la columna 'satisfaccion' de nuevo al DataFrame codificado\n",
    "\"\"\"\n"
   ]
  },
  {
   "cell_type": "markdown",
   "metadata": {},
   "source": [
    "¿Por qué este orden es importante?\n",
    "\n",
    "Consistencia: Al separar primero X e y y luego hacer el split, garantizas que las filas correspondientes de X e y coincidan exactamente en los conjuntos de entrenamiento y prueba.\n",
    "\n",
    "Evitar filtraciones de datos: Si haces el split antes de separar X e y, podrías accidentalmente introducir fugas de datos o inconsistencias, lo que podría afectar la capacidad del modelo para generalizar."
   ]
  },
  {
   "cell_type": "markdown",
   "metadata": {},
   "source": [
    "* Primero separas la 'y' de las variables predictoras 'x'.\n",
    "* Luego El split de tanto 'y' como 'x' con su correspondiente 'train' y 'test'\n",
    "* Finalmente voy a escalar las numéricas: Después de realizar el split, ajustas el escalador (Scaler) solo con el conjunto de entrenamiento (X_train). Esto asegura que las estadísticas de escalado (media, desviación estándar, etc.) no estén influenciadas por los datos de prueba.\n",
    "* Aplicar la transformación de escalado al conjunto de prueba:Una vez que el escalador se ha ajustado al conjunto de entrenamiento, usas ese mismo escalador para transformar el conjunto de prueba (X_test). Esto asegura que ambos conjuntos sean escalados de manera consistente\n"
   ]
  },
  {
   "cell_type": "code",
   "execution_count": null,
   "metadata": {},
   "outputs": [],
   "source": [
    "#Primero separas la 'y' de las variables predictoras 'x'\n",
    "#Luego El split de tanto 'y' como 'x' con su correspondiente 'train' y 'test'\n",
    "#Finalmente voy a escalar las numéricas: Después de realizar el split, ajustas el escalador (Scaler) solo con el conjunto de entrenamiento (X_train). Esto asegura que las estadísticas de escalado (media, desviación estándar, etc.) no estén influenciadas por los datos de prueba.\n",
    "#Aplicar la transformación de escalado al conjunto de prueba:Una vez que el escalador se ha ajustado al conjunto de entrenamiento, usas ese mismo escalador para transformar el conjunto de prueba (X_test). Esto asegura que ambos conjuntos sean escalados de manera consistente\n",
    "\n"
   ]
  },
  {
   "cell_type": "markdown",
   "metadata": {},
   "source": [
    "La razón es que, en general, deseas mantener la separación entre los datos de entrenamiento y los datos de prueba, incluso después de la escalado. De esta manera, puedes asegurarte de que el modelo de machine learning se entrena y se evalúa correctamente."
   ]
  },
  {
   "cell_type": "code",
   "execution_count": null,
   "metadata": {},
   "outputs": [],
   "source": [
    "\n",
    "# En 'train' cojo las columnas numéricas sin escalar y las reemplazo con las columnas numéricas escaladas. \n",
    "# Por lo que ya me queda todo 'x_train' junto y escalado\n",
    "#x_train[data_num.columns] = x_train_num_scaled\n",
    "\n",
    "\n",
    "x_train.to_csv(path +   '/x_train_scaled.csv')\n",
    "\n",
    "# En 'test' cojo las columnas numéricas sin escalar y las reemplazo con las columnas numéricas escaladas.\n",
    "# Por lo que ya me queda todo 'x_test' junto y escalado\n",
    "\n",
    "x_test.to_csv(path + '/x_test_scaled.csv')\n",
    "\n"
   ]
  },
  {
   "cell_type": "code",
   "execution_count": null,
   "metadata": {},
   "outputs": [],
   "source": [
    "# Guardar datos en ficheros\n",
    "\"\"\" \n",
    "path='C:/4_F5/011_proyecto_ml/'\n",
    "pd.DataFrame(x_train_scaled).to_csv('x_train_scaled.csv', index=False)\n",
    "pd.DataFrame(x_test_scaled).to_csv('x_test_scaled.csv', index=False)\n",
    "y_train.to_csv(path + '/y_train.csv')\n",
    "y_test.to_csv(path + '/y_test.csv')\n",
    "\n",
    " \"\"\""
   ]
  },
  {
   "cell_type": "code",
   "execution_count": 75,
   "metadata": {},
   "outputs": [
    {
     "data": {
      "image/png": "[encoded data removed]",
      "text/plain": [
       "<Figure size 640x480 with 1 Axes>"
      ]
     },
     "metadata": {},
     "output_type": "display_data"
    }
   ],
   "source": [
    "import matplotlib.pyplot as plt\n",
    "\n",
    "# Histograma de la variable escalada\n",
    "plt.hist(x_train_processed_df['Age'], bins=50)\n",
    "plt.title('Distribución de la variable escalada')\n",
    "plt.show()\n",
    "\n",
    "# Histograma de la variable no escalada ---> usar de A´ngel\n"
   ]
  },
  {
   "cell_type": "code",
   "execution_count": 78,
   "metadata": {},
   "outputs": [
    {
     "name": "stdout",
     "output_type": "stream",
     "text": [
      "Estadísticas descriptivas de la variable escalada:\n",
      "count    7.251500e+04\n",
      "mean     7.446907e-18\n",
      "std      1.000007e+00\n",
      "min     -2.142578e+00\n",
      "25%     -8.191147e-01\n",
      "50%      4.113660e-02\n",
      "75%      7.690415e-01\n",
      "max      3.018930e+00\n",
      "Name: Age, dtype: float64\n",
      "Estadísticas descriptivas de la variable escalada:\n"
     ]
    }
   ],
   "source": [
    "print('Estadísticas descriptivas de la variable escalada:')\n",
    "print(x_train_processed_df['Age'].describe())\n",
    "\n",
    "print('Estadísticas descriptivas de la variable escalada:')\n",
    "#print(x_test_scaled[:, 0]).describe()) "
   ]
  },
  {
   "cell_type": "code",
   "execution_count": null,
   "metadata": {},
   "outputs": [],
   "source": [
    "import matplotlib.pyplot as plt\n",
    "\n",
    "# Histograma de la variable escalada\n",
    "plt.hist(x_train_processed_df['Age'], bins=50)\n",
    "plt.title('Distribución de la variable escalada')\n",
    "plt.show()\n",
    "\n",
    "# Histograma de la variable no escalada ---> usar de A´ngel"
   ]
  },
  {
   "cell_type": "code",
   "execution_count": 80,
   "metadata": {},
   "outputs": [
    {
     "data": {
      "image/png": "[encoded data removed]",
      "text/plain": [
       "<Figure size 640x480 with 1 Axes>"
      ]
     },
     "metadata": {},
     "output_type": "display_data"
    }
   ],
   "source": [
    "import matplotlib.pyplot as plt\n",
    "\n",
    "# Histograma de la variable escalada\n",
    "plt.hist(x_train_processed_df['Flight Distance'], bins=50)\n",
    "plt.title('Distribución de la variable escalada')\n",
    "plt.show()\n",
    "\n",
    "# Histograma de la variable no escalada ---> usar de A´ngel"
   ]
  },
  {
   "cell_type": "code",
   "execution_count": 81,
   "metadata": {},
   "outputs": [
    {
     "name": "stdout",
     "output_type": "stream",
     "text": [
      "count    7.251500e+04\n",
      "mean     1.469784e-18\n",
      "std      1.000007e+00\n",
      "min     -1.161652e+00\n",
      "25%     -7.775579e-01\n",
      "50%     -3.463295e-01\n",
      "75%      5.512274e-01\n",
      "max      3.804495e+00\n",
      "Name: Flight Distance, dtype: float64\n"
     ]
    }
   ],
   "source": [
    "print(x_train_processed_df['Flight Distance'].describe())\n"
   ]
  },
  {
   "cell_type": "markdown",
   "metadata": {},
   "source": [
    "## Primer modelo: Random Forest"
   ]
  },
  {
   "cell_type": "code",
   "execution_count": 82,
   "metadata": {},
   "outputs": [
    {
     "name": "stdout",
     "output_type": "stream",
     "text": [
      "Accuracy: 0.9621609446893401\n"
     ]
    }
   ],
   "source": [
    "from sklearn.ensemble import RandomForestClassifier\n",
    "from sklearn.model_selection import train_test_split\n",
    "from sklearn.metrics import accuracy_score\n",
    "\n",
    "# Crea un objeto RandomForestClassifier\n",
    "model = RandomForestClassifier(n_estimators=100, random_state=42)\n",
    "\n",
    "# Entrena el modelo con el conjunto de entrenamiento\n",
    "model.fit(x_train_processed_df, y_train)\n",
    "\n",
    "# Evalúa el modelo con el conjunto de 'test'\n",
    "y_pred = model.predict(x_test_processed_df)\n",
    "print(\"Accuracy:\", accuracy_score(y_test, y_pred))\n"
   ]
  },
  {
   "cell_type": "markdown",
   "metadata": {},
   "source": [
    "Para verificar si hay overfitting menor al 5% en el modelo de Random Forest, hay que comparar las métricas de rendimiento entre los conjuntos de 'train' y 'test'. \n",
    "Esto se hace calculando la precisión (accuracy) en ambos conjuntos, 'train' y 'test'. \n",
    "Si la diferencia entre ambas precisiones es mayor al 5%, hay un indicio de overfitting.\n",
    "\n",
    "Pasos para calcular la diferencia en rendimiento:\n",
    "* Calcula la precisión en el conjunto de entrenamiento.\n",
    "* Calcula la precisión en el conjunto de prueba.\n",
    "* Compara la diferencia entre ambas precisiones.\n",
    "\n",
    "Si la diferencia es menor al 5%, entonces el modelo no sufre de un sobreajuste significativo."
   ]
  },
  {
   "cell_type": "code",
   "execution_count": 99,
   "metadata": {},
   "outputs": [
    {
     "name": "stdout",
     "output_type": "stream",
     "text": [
      "Precisión en entrenamiento: 0.9511\n",
      "Precisión en prueba: 0.9466\n",
      "Diferencia de precisión (overfitting): 0.0045\n",
      "El modelo tiene un overfitting menor al 5%.\n",
      "\n",
      "Matriz de Confusión de Random Forest:\n",
      "[[16863   720]\n",
      " [  940 12556]]\n"
     ]
    }
   ],
   "source": [
    "from sklearn.ensemble import RandomForestClassifier\n",
    "from sklearn.metrics import accuracy_score\n",
    "\n",
    "# Crea un objeto RandomForestClassifier\n",
    "model = RandomForestClassifier(n_estimators=100, \n",
    "                               random_state=42, \n",
    "                               max_depth=10,  # Limita la profundidad de los árboles\n",
    "                               max_features='sqrt') # Limita las características a considerar por nodo\n",
    "\n",
    "#Tuve que añadirle dos hyperparámetros porque train_accuracy daba un 1.000, lo cual indicaba sobreajuste\n",
    "#max_features='sqrt',  # Limita las características a considerar por nodo\n",
    "#max_depth=10\n",
    "\n",
    "# Entrena el modelo con el conjunto de entrenamiento\n",
    "model.fit(x_train_processed_df, y_train)\n",
    "\n",
    "# Predicción en el conjunto de entrenamiento\n",
    "y_train_pred = model.predict(x_train_processed_df)\n",
    "\n",
    "# Evaluación\n",
    "train_accuracy = accuracy_score(y_train, y_train_pred)\n",
    "\n",
    "# Predicción en el conjunto de prueba\n",
    "y_test_pred = model.predict(x_test_processed_df)\n",
    "\n",
    "#Evaluación \n",
    "test_accuracy = accuracy_score(y_test, y_test_pred)\n",
    "\n",
    "# Calcula la diferencia de precisión entre entrenamiento y prueba\n",
    "accuracy_difference = abs(train_accuracy - test_accuracy)\n",
    "\n",
    "# Imprime los resultados\n",
    "print(f\"Precisión en entrenamiento: {train_accuracy:.4f}\")\n",
    "print(f\"Precisión en prueba: {test_accuracy:.4f}\")\n",
    "print(f\"Diferencia de precisión (overfitting): {accuracy_difference:.4f}\")\n",
    "\n",
    "# Verifica si la diferencia es menor al 5%\n",
    "if accuracy_difference <= 0.05:\n",
    "    print(\"El modelo tiene un overfitting menor al 5%.\")\n",
    "else:\n",
    "    print(\"El modelo tiene un overfitting mayor al 5%.\")\n",
    "    \n",
    "from sklearn.metrics import confusion_matrix\n",
    "#\n",
    "# Generar la matriz de confusión\n",
    "matrix_rf = confusion_matrix(y_test, y_test_pred)\n",
    "\n",
    "print(f\"\\nMatriz de Confusión de Random Forest:\\n{matrix_rf}\")\n"
   ]
  },
  {
   "cell_type": "markdown",
   "metadata": {},
   "source": [
    "En la propia celda he corregido el sobreajuste\n",
    "\n",
    "Precisión del 100% en entrenamiento es generalmente una señal de sobreajuste (overfitting), especialmente en modelos complejos como los Random Forests que pueden ajustarse perfectamente a los datos de entrenamiento. \n",
    "\n",
    "En el caso de Random Forest, el modelo podría haber memorizado los datos de entrenamiento, lo que explica por qué obtiene una precisión perfecta en ese conjunto.\n",
    "Aunque la diferencia de precisión era menor al 5% (0.0378), el sobreajuste sigue siendo una preocupación porque:\n",
    "* Random Forest puede ajustarse bien a los datos de entrenamiento debido a su flexibilidad, pero esto no siempre generaliza bien en nuevos datos (conjunto de prueba).\n",
    "* Precisión del 100% en entrenamiento puede sugerir que el modelo ha aprendido \"ruido\" o patrones muy específicos de los datos de entrenamiento que no son aplicables a nuevos datos.\n",
    "\n",
    "Posibles causas del overfitting:\n",
    "* Modelo muy complejo: Random Forest puede tener muchos árboles o una profundidad excesiva en los árboles, lo que provoca un ajuste excesivo.\n",
    "* Datos insuficientes: Si los datos no son lo suficientemente variados, el modelo puede \"memorizar\" los datos en lugar de aprender patrones generales.\n",
    "\n",
    "Soluciones para reducir el sobreajuste:\n",
    "* Reducir la complejidad del modelo: Ajusta los parámetros del Random Forest, como disminuir la profundidad máxima de los árboles (max_depth) o el número máximo de hojas (max_leaf_nodes). ----> usé esta\n",
    "* Usar regularización: Limitar el número de características a considerar en cada nodo (max_features).\n",
    "* Aumentar los datos: Más datos de entrenamiento pueden ayudar al modelo a generalizar mejor.\n",
    "* Cross-validation:\n",
    "Usar validación cruzada para evaluar cómo se comporta el modelo en diferentes particiones de los datos, en lugar de confiar en una única división entrenamiento/prueba."
   ]
  },
  {
   "cell_type": "code",
   "execution_count": 105,
   "metadata": {},
   "outputs": [
    {
     "data": {
      "image/png": "[encoded data removed]",
      "text/plain": [
       "<Figure size 1000x600 with 1 Axes>"
      ]
     },
     "metadata": {},
     "output_type": "display_data"
    }
   ],
   "source": [
    "import numpy as np\n",
    "import matplotlib.pyplot as plt\n",
    "from sklearn.model_selection import learning_curve\n",
    "\n",
    "\n",
    "# Parámetros para la función learning_curve\n",
    "train_sizes = np.linspace(0.1, 1.0, 10)  # Fracciones del conjunto de datos de entrenamiento que se usarán\n",
    "\n",
    "# Generar curva de aprendizaje\n",
    "train_sizes, train_scores, validation_scores = learning_curve(\n",
    "    model, \n",
    "    x_train_processed_df, y_train, \n",
    "    train_sizes=train_sizes, \n",
    "    cv=3,  # Validación cruzada de 5 folds\n",
    "    scoring='accuracy',  # Medimos la precisión del modelo\n",
    "    n_jobs=-1  # Usar todos los núcleos disponibles,\n",
    ")\n",
    "\n",
    "# Cálculo de la media y desviación estándar para la precisión de entrenamiento y validación\n",
    "train_scores_mean = np.mean(train_scores, axis=1)\n",
    "train_scores_std = np.std(train_scores, axis=1)\n",
    "validation_scores_mean = np.mean(validation_scores, axis=1)\n",
    "validation_scores_std = np.std(validation_scores, axis=1)\n",
    "\n",
    "# Graficar la curva de aprendizaje\n",
    "plt.figure(figsize=(10, 6))\n",
    "plt.plot(train_sizes, train_scores_mean, label='Precisión en entrenamiento', color='blue')\n",
    "plt.fill_between(train_sizes, train_scores_mean - train_scores_std, train_scores_mean + train_scores_std, color='blue', alpha=0.2)\n",
    "plt.plot(train_sizes, validation_scores_mean, label='Precisión en validación', color='green')\n",
    "plt.fill_between(train_sizes, validation_scores_mean - validation_scores_std, validation_scores_mean + validation_scores_std, color='green', alpha=0.2)\n",
    "\n",
    "# Etiquetas y leyenda\n",
    "plt.title('Curva de aprendizaje para Random Forest')\n",
    "plt.xlabel('Tamaño del conjunto de entrenamiento')\n",
    "plt.ylabel('Precisión')\n",
    "plt.legend(loc='best')\n",
    "\n",
    "# Mostrar gráfico\n",
    "plt.grid()\n",
    "plt.show()\n"
   ]
  },
  {
   "cell_type": "markdown",
   "metadata": {},
   "source": [
    "Esto son métricas"
   ]
  },
  {
   "cell_type": "code",
   "execution_count": null,
   "metadata": {},
   "outputs": [],
   "source": [
    "from sklearn.metrics import accuracy_score, precision_score, recall_score, f1_score, roc_auc_score, confusion_matrix\n",
    "\n",
    "# ...\n",
    "\n",
    "y_pred = model.predict(x_test)\n",
    "\n",
    "# Calcula la accuracy\n",
    "accuracy = accuracy_score(y_test, y_pred)\n",
    "print(\"Accuracy:\", accuracy)\n",
    "\n",
    "\n",
    "# Calcula la precisión (average='weighted' for multi-class problems)\n",
    "precision = precision_score(y_test, y_pred, average='weighted')\n",
    "print(\"Precision:\", precision)\n",
    "\n",
    "# Calcula el recall\n",
    "recall = recall_score(y_test, y_pred, average='weighted',labels=['neutral or dissatisfied', 'satisfied'])\n",
    "print(\"Recall:\", recall)\n",
    "\n",
    "\"\"\" # Calcula el F1-score\n",
    "f1 = f1_score(y_test, y_pred)\n",
    "print(\"F1-score:\", f1)\n",
    "\n",
    "# Calcula el ROC-AUC\n",
    "roc_auc = roc_auc_score(y_test, y_pred)\n",
    "print(\"ROC-AUC:\", roc_auc)\n",
    "\n",
    "# Calcula la matriz de confusión\n",
    "conf_mat = confusion_matrix(y_test, y_pred)\n",
    "print(\"Confusion Matrix:\")\n",
    "print(conf_mat) \"\"\""
   ]
  },
  {
   "cell_type": "markdown",
   "metadata": {},
   "source": [
    "Multicolinealidad"
   ]
  },
  {
   "cell_type": "markdown",
   "metadata": {},
   "source": [
    "Probando "
   ]
  },
  {
   "cell_type": "code",
   "execution_count": null,
   "metadata": {},
   "outputs": [],
   "source": [
    "\n",
    "\"\"\" \n",
    "El problema es que el modelo de regresión lineal (LinearRegression) no entiende que tu variable objetivo es binaria.\n",
    "\n",
    "La regresión lineal es un algoritmo de aprendizaje automático que se utiliza para predecir valores continuos, no binarios. \n",
    "Cuando entrenas el modelo con tus datos, el algoritmo intenta encontrar la mejor línea que se ajuste a tus datos, pero no \n",
    "tiene en cuenta que la variable objetivo es binaria.\n",
    "\n",
    "Por lo tanto, cuando haces print(lin_reg.predict(x_train.head())), el modelo devuelve valores decimales porque está tratando de predecir un valor continuo, no un valor binario.\n",
    "\n",
    "Para solucionar este problema, debes utilizar un algoritmo de aprendizaje automático que sea adecuado para problemas de clasificación binaria, como LogisticRegression de scikit-learn. Este algoritmo entiende que la variable objetivo es binaria y devuelve probabilidades de pertenencia a cada clase, que puedes convertir en valores binarios (0 o 1) utilizando una función de umbral (threshold).\n",
    "\n",
    " \"\"\""
   ]
  },
  {
   "cell_type": "markdown",
   "metadata": {},
   "source": [
    "## Segundo Modelo: Regesión Logística"
   ]
  },
  {
   "cell_type": "code",
   "execution_count": 88,
   "metadata": {},
   "outputs": [
    {
     "name": "stdout",
     "output_type": "stream",
     "text": [
      "Accuracy: 0.8719392515846713\n",
      "[1 0 0 0 1]\n",
      "\n",
      "Valores reales vs. Predicciones:\n",
      "   Real  Predicción\n",
      "0     1           1\n",
      "1     0           0\n",
      "2     0           0\n",
      "3     0           0\n",
      "4     1           1\n"
     ]
    }
   ],
   "source": [
    "from sklearn.linear_model import LogisticRegression\n",
    "from sklearn.preprocessing import LabelEncoder\n",
    "import numpy as np\n",
    "\n",
    "# Codificaicón de la variable objetivo\n",
    "le = LabelEncoder()\n",
    "y_train_le = le.fit_transform(y_train) #codifica y_train\n",
    "y_test_le = le.transform(y_test)  # Codifica y_test para compararlo correctamente\n",
    "\n",
    "\n",
    "# Entrenamiento del modelo\n",
    "log_reg = LogisticRegression()\n",
    "log_reg.fit(x_train_processed_df, y_train_le)\n",
    "\n",
    "\n",
    "# Predicción aprendida en el 'train' se aplica al conjunto de 'test'\n",
    "y_pred = log_reg.predict(x_test_processed_df)  # Predicción sobre el conjunto de 'test'\n",
    "\n",
    "# Evaluación del modelo\n",
    "accuracy = accuracy_score(y_test_le, y_pred)\n",
    "print(\"Accuracy:\", accuracy)\n",
    "\n",
    "\n",
    "# Ejemplo de predicciones sobre nuevas muestras (primeras 5 filas del conjunto de prueba)\n",
    "y_pred_example = log_reg.predict(x_test_processed_df.head())\n",
    "print(y_pred_example)\n",
    "\n",
    "\n",
    "\n",
    "results_df = pd.DataFrame({\n",
    "    'Real': y_test_le[:5],  # Primeras 5 filas reales\n",
    "    'Predicción': y_pred_example # Primeras 5 predicciones\n",
    "})\n",
    "\n",
    "# Imprimir la tabla de resultados\n",
    "print(\"\\nValores reales vs. Predicciones:\")\n",
    "print(results_df)"
   ]
  },
  {
   "cell_type": "markdown",
   "metadata": {},
   "source": [
    "En lugar de calcular la correlación entre las variables dummy, es más útil utilizar otras técnicas para seleccionar las variables más relevantes para el modelo.\n",
    "Algunas opciones son:\n",
    "\n",
    "* Análisis de la importancia de las características: utiliza algoritmos como Random Forest o Gradient Boosting para evaluar la importancia de cada variable en la predicción de Y.\n",
    "\n",
    "* Selección de características: utiliza técnicas como la selección recursiva de características (RFE) o la selección de características mediante la matriz de correlación de mutual information.\n",
    "\n",
    "* Análisis de la varianza: utiliza técnicas como la descomposición de la varianza para evaluar la contribución de cada variable a la varianza de Y.\n",
    "\n",
    "Recuerda que la selección de variables es un paso importante en el proceso de modelado, y es importante utilizar técnicas adecuadas para identificar las variables más relevantes para el modelo."
   ]
  },
  {
   "cell_type": "markdown",
   "metadata": {},
   "source": [
    "Voy a usar más métricas"
   ]
  },
  {
   "cell_type": "code",
   "execution_count": 89,
   "metadata": {},
   "outputs": [
    {
     "name": "stdout",
     "output_type": "stream",
     "text": [
      "Matriz de Confusión:\n",
      "[[15877  1706]\n",
      " [ 2274 11222]]\n"
     ]
    }
   ],
   "source": [
    "from sklearn.metrics import confusion_matrix\n",
    "#\n",
    "# Generar la matriz de confusión\n",
    "cm = confusion_matrix(y_test_le, y_pred)\n",
    "\n",
    "print(\"Matriz de Confusión:\")\n",
    "print(cm)"
   ]
  },
  {
   "cell_type": "markdown",
   "metadata": {},
   "source": [
    "La matriz de confusión saca sus resultados a partir de lo parte de 'test', en general (pero se puede hacer una matriz de confusión de la parte de 'train' para comparar con la matriz de 'test' y ver si están desbalanceadas y así encontrar señales de 'overfitting'. Esto lo haré luego)\n",
    "\n",
    "Para interpretar esta matriz, debemos entender qué representan cada una de las celdas:\n",
    "\n",
    "La diagonal principal representa las observaciones que el modelo clasificó correctamente. En este caso, hay 15005 observaciones que el modelo clasificó como negativas (0) y realmente eran negativas, y 10665 observaciones que el modelo clasificó como positivas (1) y realmente eran positivas.\n",
    "La celda superior derecha (1455) representa las observaciones que el modelo clasificó como positivas (1) pero realmente eran negativas (0). Estas son llamadas \"falsos positivos\" (FP).\n",
    "La celda inferior izquierda (1500) representa las observaciones que el modelo clasificó como negativas (0) pero realmente eran positivas (1). Estas son llamadas \"falsos negativos\" (FN).\n",
    "A partir de esta matriz de confusión, podemos sacar varias conclusiones:\n",
    "\n",
    "Precisión: La precisión del modelo se puede calcular como la suma de las observaciones clasificadas correctamente (diagonal principal) dividida entre el total de observaciones. En este caso, la precisión es (15005 + 10665) / (15005 + 1455 + 1500 + 10665) ≈ 0.92. Esto significa que el modelo es capaz de clasificar correctamente alrededor del 92% de las observaciones.\n",
    "\n",
    "Sensibilidad: La sensibilidad se refiere a la capacidad del modelo para detectar observaciones positivas (1). Se puede calcular como la cantidad de verdaderos positivos (TP) dividida entre la suma de verdaderos positivos y falsos negativos (FN). En este caso, la sensibilidad es 10665 / (10665 + 1500) ≈ 0.877. Esto significa que el modelo es capaz de detectar alrededor del 87.7% de las observaciones positivas.\n",
    "\n",
    "Especificidad: La especificidad se refiere a la capacidad del modelo para detectar observaciones negativas (0). Se puede calcular como la cantidad de verdaderos negativos (TN) dividida entre la suma de verdaderos negativos y falsos positivos (FP). En este caso, la especificidad es 15005 / (15005 + 1455) ≈ 0.912. Esto significa que el modelo es capaz de detectar alrededor del 91.2% de las observaciones negativas.\n",
    "En resumen, la matriz de confusión indica que el modelo de regresión logística tiene una buena precisión y especificidad, pero una sensibilidad moderada. Esto sugiere que el modelo es capaz de clasificar correctamente la mayoría de las observaciones, pero puede tener dificultades para detectar algunas observaciones positivas."
   ]
  },
  {
   "cell_type": "markdown",
   "metadata": {},
   "source": [
    "Sobreajuste en Regresión Logística\n",
    "\n",
    "El 'overfitting' es un problema que ocurre cuando un modelo de machine learning se ajusta demasiado bien a los datos de entrenamiento, capturando tanto las relaciones como el ruido o patrones irrelevantes en los datos.\n",
    "Como resultado, aunque el modelo tenga un alto rendimiento en los datos de entrenamiento, su capacidad de generalización a nuevos datos o datos de prueba deficiente, lo que conduce a un bajo rendimiento de estos últimos.\n"
   ]
  },
  {
   "cell_type": "markdown",
   "metadata": {},
   "source": [
    "En el caso del Modelo de Regresión Logística, algunas señales para evaluar Overfitting podría ser:\n",
    "* Alta precisión en el conjunto de entrenamiento y baja precisión en el conjunto de prueba.\n",
    "* Matriz de confusión desequilibrada, donde el modelo clasifica correctamente en el conjunto de entrenamiento, pero falla significativamente en el conjunto de prueba.\n",
    "* Curva ROC/AUC, donde el AUC en los datos de prueba es significativamente más bajo que en los datos de entrenamiento.\n",
    "\n",
    "\n",
    "Por tanto, se pueden realizar las siguientes comprobaciones para evaluarlo:"
   ]
  },
  {
   "cell_type": "markdown",
   "metadata": {},
   "source": [
    "\n",
    "* 1. Compara el rendimiento entre los datos de entrenamiento y prueba: Revisa las métricas de precisión (accuracy), precisión (precision), sensibilidad (recall), y el AUC en ambos conjuntos de datos. Si el rendimiento es mucho mejor en el conjunto de entrenamiento que en el conjunto de prueba, es una señal clara de overfitting."
   ]
  },
  {
   "cell_type": "code",
   "execution_count": 101,
   "metadata": {},
   "outputs": [
    {
     "name": "stdout",
     "output_type": "stream",
     "text": [
      "Precisión en el conjunto de entrenamiento: 0.8767151623801972\n",
      "Precisión en el conjunto de prueba: 0.8719392515846713\n"
     ]
    }
   ],
   "source": [
    "# Predicción en el conjunto de entrenamiento\n",
    "y_train_pred_log = log_reg.predict(x_train_processed_df)\n",
    "\n",
    "#Evaluación\n",
    "train_accuracy_log = accuracy_score(y_train_le, y_train_pred_log)\n",
    "print(\"Precisión en el conjunto de entrenamiento:\", train_accuracy_log)\n",
    "\n",
    "\n",
    "# Predicción en el conjutno 'train' \n",
    "y_test_pred_log = log_reg.predict(x_test_processed_df)\n",
    "\n",
    "#Evaluación\n",
    "test_accuracy_log = accuracy_score(y_test_le, y_test_pred_log)\n",
    "print(\"Precisión en el conjunto de prueba:\", test_accuracy_log) "
   ]
  },
  {
   "cell_type": "code",
   "execution_count": 102,
   "metadata": {},
   "outputs": [
    {
     "name": "stdout",
     "output_type": "stream",
     "text": [
      "Precisión en entrenamiento: 0.8767\n",
      "Precisión en prueba: 0.8719\n",
      "Diferencia de precisión (overfitting): 0.0048\n"
     ]
    }
   ],
   "source": [
    "# Calcula la diferencia de precisión entre entrenamiento y prueba\n",
    "accuracy_difference_log = abs(train_accuracy_log - test_accuracy_log)\n",
    "\n",
    "# Imprime los resultados\n",
    "print(f\"Precisión en entrenamiento: {train_accuracy_log:.4f}\")\n",
    "print(f\"Precisión en prueba: {test_accuracy_log:.4f}\")\n",
    "print(f\"Diferencia de precisión (overfitting): {accuracy_difference_log:.4f}\")"
   ]
  },
  {
   "cell_type": "markdown",
   "metadata": {},
   "source": [
    "* 2. Curva de aprendizaje: \n",
    "Podemos graficar el rendimiento del modelo en el conjunto de entrenamiento y prueba en función del número de muestras. Si la precisión en el conjunto de prueba se estabiliza a un nivel bajo y en el conjunto de entrenamiento es muy alta, esto es una indicación de overfitting."
   ]
  },
  {
   "cell_type": "code",
   "execution_count": 93,
   "metadata": {},
   "outputs": [
    {
     "data": {
      "image/png": "[encoded data removed]",
      "text/plain": [
       "<Figure size 1000x600 with 1 Axes>"
      ]
     },
     "metadata": {},
     "output_type": "display_data"
    }
   ],
   "source": [
    "import numpy as np\n",
    "import matplotlib.pyplot as plt\n",
    "from sklearn.model_selection import learning_curve\n",
    "from sklearn.linear_model import LogisticRegression\n",
    "\n",
    "# Parámetros para la función learning_curve\n",
    "train_sizes = np.linspace(0.1, 1.0, 10)  # Fracciones del conjunto de datos de entrenamiento que se usarán\n",
    "\n",
    "# Generar curva de aprendizaje\n",
    "train_sizes, train_scores, validation_scores = learning_curve(\n",
    "    LogisticRegression(), \n",
    "    x_train_processed_df, y_train_le, \n",
    "    train_sizes=train_sizes, \n",
    "    cv=5,  # Validación cruzada de 5 folds\n",
    "    scoring='accuracy',  # Medimos la precisión del modelo\n",
    "    n_jobs=-1  # Usar todos los núcleos disponibles\n",
    ")\n",
    "\n",
    "# Cálculo de la media y desviación estándar para la precisión de entrenamiento y validación\n",
    "train_scores_mean = np.mean(train_scores, axis=1)\n",
    "train_scores_std = np.std(train_scores, axis=1)\n",
    "validation_scores_mean = np.mean(validation_scores, axis=1)\n",
    "validation_scores_std = np.std(validation_scores, axis=1)\n",
    "\n",
    "# Graficar la curva de aprendizaje\n",
    "plt.figure(figsize=(10, 6))\n",
    "plt.plot(train_sizes, train_scores_mean, label='Precisión en entrenamiento', color='blue')\n",
    "plt.fill_between(train_sizes, train_scores_mean - train_scores_std, train_scores_mean + train_scores_std, color='blue', alpha=0.2)\n",
    "plt.plot(train_sizes, validation_scores_mean, label='Precisión en validación', color='green')\n",
    "plt.fill_between(train_sizes, validation_scores_mean - validation_scores_std, validation_scores_mean + validation_scores_std, color='green', alpha=0.2)\n",
    "\n",
    "# Etiquetas y leyenda\n",
    "plt.title('Curva de aprendizaje para Regresión Logística')\n",
    "plt.xlabel('Tamaño del conjunto de entrenamiento')\n",
    "plt.ylabel('Precisión')\n",
    "plt.legend(loc='best')\n",
    "\n",
    "# Mostrar gráfico\n",
    "plt.grid()\n",
    "plt.show()\n"
   ]
  },
  {
   "cell_type": "markdown",
   "metadata": {},
   "source": [
    "### Puntos importantes sobre la validación cruzada:\n",
    "\n",
    "Propósito de la validación cruzada:\n",
    "La validación cruzada es principalmente una técnica de evaluación del modelo, no una métrica en sí misma.\n",
    "\n",
    "Comparación de validación cruzada con métricas:\n",
    "* Métricas como accuracy, precisión, recall, F1-score, etc., miden aspectos específicos del rendimiento del modelo.\n",
    "* La validación cruzada es una metodología para aplicar estas métricas de manera más robusta.\n",
    "\n",
    "\n",
    "\n",
    "Función principal:\n",
    "* Evalúa cómo de bien generaliza el modelo a datos no vistos.\n",
    "* Ayuda a detectar problemas como overfitting o underfitting.\n",
    "* Proporciona una estimación más confiable del rendimiento esperado del modelo en nuevos datos.\n",
    "\n",
    "Para evaluar el modelo, la validación cruzada va a entrenar otra vez (aunque el modelo RandomForest ya lo haya hecho). Es decir, complementa, no reemplaza, las métricas tradicionales como accuracy, precisión, recall, etc.\n",
    "Cómo funciona:\n",
    "* Divide los datos en varios subconjuntos.\n",
    "* Entrena el modelo múltiples veces, cada vez con un subconjunto diferente como conjunto de validación, y luego saca una evaluación cada una de las veces.\n",
    "* Promedia los resultados para obtener una estimación más estable del rendimiento.\n",
    "\n",
    "\n",
    "Beneficios:\n",
    "* Uso más eficiente de los datos disponibles para entrenamiento y evaluación.\n",
    "* Reduce la dependencia de una única división train-test.\n",
    "* Proporciona una medida de la variabilidad del rendimiento del modelo.\n",
    "\n",
    "\n",
    "Relación con el entrenamiento:\n",
    "Aunque no es directamente una forma de entrenar el modelo, la validación cruzada puede informar el proceso de entrenamiento:\n",
    "\n",
    "Uso de datos en validación cruzada:\n",
    "Típicamente, la validación cruzada se realiza sobre el conjunto de entrenamiento ('train'), no sobre el conjunto de prueba ('test').\n"
   ]
  },
  {
   "cell_type": "markdown",
   "metadata": {},
   "source": [
    "La validación cruzada es una herramienta muy útil para la selección de hiperparámetros. \n",
    "* Ayuda a evaluar el rendimiento del modelo con diferentes combinaciones de hiperparámetros.\n",
    "* Permite una estimación más robusta del rendimiento de cada combinación.\n",
    "* Reduce el riesgo de overfitting a un conjunto específico de datos de validación.\n",
    "\n",
    "\n",
    "Proceso de selección de hiperparámetros:\n",
    "\n",
    "1. Se define un conjunto de valores posibles para cada hiperparámetro.\n",
    "2. Se prueban diferentes combinaciones de estos valores.\n",
    "3. Para cada combinación, se realiza validación cruzada.\n",
    "4. Se elige la combinación que produce el mejor rendimiento promedio en la validación cruzada."
   ]
  },
  {
   "cell_type": "markdown",
   "metadata": {},
   "source": [
    "Cómo encuentra los hiperparámetros más adecuados:\n",
    "\n",
    "* Típicamente, se usa una técnica llamada \"búsqueda de cuadrícula\" (Grid Search) o \"búsqueda aleatoria\" (Random Search).\n",
    "* Cada combinación se evalúa utilizando validación cruzada.\n",
    "* Se selecciona la combinación con el mejor rendimiento promedio."
   ]
  },
  {
   "cell_type": "markdown",
   "metadata": {},
   "source": [
    "Proceso detallado:\n",
    "\n",
    "Primero, se divide el conjunto de datos original en 'train' y 'test'.\n",
    "Luego, la validación cruzada se aplica solo al conjunto 'train'.\n",
    "El conjunto 'test' se mantiene completamente separado y se usa solo para la evaluación final.\n",
    "\n",
    "\n",
    "Razón de este enfoque:\n",
    "\n",
    "Preserva la integridad del conjunto de prueba como datos verdaderamente no vistos.\n",
    "Evita el sobreajuste a los datos de 'test'.\n",
    "\n",
    "Puntos clave:\n",
    "\n",
    "La validación cruzada divide y utiliza solo el conjunto de entrenamiento.\n",
    "El conjunto de prueba permanece intacto y se usa solo para la evaluación final.\n",
    "Este enfoque proporciona una estimación más realista del rendimiento del modelo en datos nuevos.\n",
    "\n",
    "Ventajas de este enfoque:\n",
    "\n",
    "Evita el \"data leakage\": No utilizamos información del conjunto de prueba durante el entrenamiento o ajuste del modelo.\n",
    "Proporciona una evaluación más robusta: La validación cruzada da una idea de cómo el modelo se comportará con diferentes subconjuntos de los datos de entrenamiento.\n",
    "Mantiene la integridad del conjunto de prueba: El conjunto de prueba sigue siendo una representación verdadera de datos no vistos."
   ]
  },
  {
   "cell_type": "markdown",
   "metadata": {},
   "source": [
    "## Validación cruzada"
   ]
  },
  {
   "cell_type": "markdown",
   "metadata": {},
   "source": []
  },
  {
   "cell_type": "markdown",
   "metadata": {},
   "source": [
    "4. Preparación de los Algoritmos de ML"
   ]
  },
  {
   "cell_type": "markdown",
   "metadata": {},
   "source": []
  },
  {
   "cell_type": "markdown",
   "metadata": {},
   "source": [
    "5. Seleccionar un modelo y entrénalo"
   ]
  },
  {
   "cell_type": "markdown",
   "metadata": {},
   "source": [
    "6. Ajustar el modelo (optimización con hypermaprámetros, ensamblado)"
   ]
  },
  {
   "cell_type": "markdown",
   "metadata": {},
   "source": [
    "7. Presentar la solución."
   ]
  },
  {
   "cell_type": "markdown",
   "metadata": {},
   "source": [
    "8. Desplegar y monitorizar"
   ]
  }
 ],
 "metadata": {
  "kernelspec": {
   "display_name": "Python 3",
   "language": "python",
   "name": "python3"
  },
  "language_info": {
   "codemirror_mode": {
    "name": "ipython",
    "version": 3
   },
   "file_extension": ".py",
   "mimetype": "text/x-python",
   "name": "python",
   "nbconvert_exporter": "python",
   "pygments_lexer": "ipython3",
   "version": "3.12.1"
  }
 },
 "nbformat": 4,
 "nbformat_minor": 2
}
